{
 "cells": [
  {
   "cell_type": "markdown",
   "metadata": {},
   "source": [
    "# An analysis of an IMDb data snapshot. What films are highly viewed / rated, and what new films should I watch?"
   ]
  },
  {
   "cell_type": "markdown",
   "metadata": {},
   "source": [
    "## Information about the data:"
   ]
  },
  {
   "cell_type": "markdown",
   "metadata": {},
   "source": [
    "The data is taken from https://www.kaggle.com/stefanoleone992/imdb-extensive-dataset, downloaded as csv files and uploaded to my own Postgres database. Whilst csv files could be directly accessed and manipulated via Python (Pandas), I wanted to gain experience managing and querying data in a database. The data set was up to date as of 2020, and so this analysis is a reflection of the data at that time.\n",
    "\n",
    "Whilst the full data set contains all movies listed on IMDb, my queries will more than likely only consist of movies where English is a listed language and where there are more than 5000 recorded votes. I understand there is some bias to these restrictions, but my reasoning is as follows. To the former point, I am an English speaker and am primarily interested in English spoken movies. This is not always the case, but upon querying the database there were far too many non-English spoken films, and this did not benefit me in my aims for this analysis. To the latter point, movie ratings were heavily skewed by a lack of votes. The average vote count across all movies was just over 9000. I understand that newer movies are heavily discriminated by using this metric, but it was more beneficial overall. I settled on including all movies that had at least 5000 votes."
   ]
  },
  {
   "cell_type": "markdown",
   "metadata": {},
   "source": [
    "## What this notebook is:"
   ]
  },
  {
   "cell_type": "markdown",
   "metadata": {},
   "source": [
    "This notebook contains an exploratory analysis into what films are popular. It will also serve as a means for me to find new films to watch, by querying the data set for the common features amongst the films I currently enjoy. By this analysis, I hope to gain a better understanding into why films are popular / highly rated, as well as finding 'hidden gems' that appeal to my tastes."
   ]
  },
  {
   "cell_type": "markdown",
   "metadata": {},
   "source": [
    "## Code imports and helper function for querying the database:"
   ]
  },
  {
   "cell_type": "code",
   "execution_count": 24,
   "metadata": {},
   "outputs": [],
   "source": [
    "import psycopg2\n",
    "import pandas as pd\n",
    "import matplotlib as plt\n",
    "import seaborn as sns\n",
    "import configparser\n",
    "\n",
    "# read database parameters from a config file\n",
    "try:\n",
    "    config = configparser.ConfigParser()\n",
    "    config.read('config.ini')\n",
    "    params = dict(config['DEFAULT'])\n",
    "except:\n",
    "    print('No config.ini file found.')"
   ]
  },
  {
   "cell_type": "code",
   "execution_count": 3,
   "metadata": {},
   "outputs": [],
   "source": [
    "def query_db(query, params):\n",
    "    '''Execute SQL queries passed to this function and return query results as data frame'''\n",
    "    \n",
    "    conn = None\n",
    "    try:\n",
    "        conn = psycopg2.connect(**params)\n",
    "        df = pd.read_sql_query(query, conn)\n",
    "        conn.close()\n",
    "        return(df)\n",
    "    except (Exception, psycopg2.DatabaseError) as error:\n",
    "        print(error)\n",
    "    finally:\n",
    "        if conn is not None:\n",
    "            conn.close()"
   ]
  },
  {
   "cell_type": "markdown",
   "metadata": {},
   "source": [
    "## Analysis:"
   ]
  },
  {
   "cell_type": "markdown",
   "metadata": {},
   "source": [
    "__*Where to start?*__\n",
    "<br>Lets first take a look at the 10 highest rated films as a starting point."
   ]
  },
  {
   "cell_type": "code",
   "execution_count": 4,
   "metadata": {},
   "outputs": [
    {
     "data": {
      "text/html": [
       "<div>\n",
       "<style scoped>\n",
       "    .dataframe tbody tr th:only-of-type {\n",
       "        vertical-align: middle;\n",
       "    }\n",
       "\n",
       "    .dataframe tbody tr th {\n",
       "        vertical-align: top;\n",
       "    }\n",
       "\n",
       "    .dataframe thead th {\n",
       "        text-align: right;\n",
       "    }\n",
       "</style>\n",
       "<table border=\"1\" class=\"dataframe\">\n",
       "  <thead>\n",
       "    <tr style=\"text-align: right;\">\n",
       "      <th></th>\n",
       "      <th>original_title</th>\n",
       "      <th>year</th>\n",
       "      <th>genre</th>\n",
       "      <th>duration</th>\n",
       "      <th>avg_vote</th>\n",
       "      <th>votes</th>\n",
       "    </tr>\n",
       "  </thead>\n",
       "  <tbody>\n",
       "    <tr>\n",
       "      <th>0</th>\n",
       "      <td>The Shawshank Redemption</td>\n",
       "      <td>1994</td>\n",
       "      <td>Drama</td>\n",
       "      <td>142</td>\n",
       "      <td>9.3</td>\n",
       "      <td>2278845</td>\n",
       "    </tr>\n",
       "    <tr>\n",
       "      <th>1</th>\n",
       "      <td>The Godfather</td>\n",
       "      <td>1972</td>\n",
       "      <td>Crime, Drama</td>\n",
       "      <td>175</td>\n",
       "      <td>9.2</td>\n",
       "      <td>1572674</td>\n",
       "    </tr>\n",
       "    <tr>\n",
       "      <th>2</th>\n",
       "      <td>The Godfather: Part II</td>\n",
       "      <td>1974</td>\n",
       "      <td>Crime, Drama</td>\n",
       "      <td>202</td>\n",
       "      <td>9.0</td>\n",
       "      <td>1098714</td>\n",
       "    </tr>\n",
       "    <tr>\n",
       "      <th>3</th>\n",
       "      <td>The Dark Knight</td>\n",
       "      <td>2008</td>\n",
       "      <td>Action, Crime, Drama</td>\n",
       "      <td>152</td>\n",
       "      <td>9.0</td>\n",
       "      <td>2241615</td>\n",
       "    </tr>\n",
       "    <tr>\n",
       "      <th>4</th>\n",
       "      <td>12 Angry Men</td>\n",
       "      <td>1957</td>\n",
       "      <td>Crime, Drama</td>\n",
       "      <td>96</td>\n",
       "      <td>8.9</td>\n",
       "      <td>668473</td>\n",
       "    </tr>\n",
       "    <tr>\n",
       "      <th>5</th>\n",
       "      <td>Pulp Fiction</td>\n",
       "      <td>1994</td>\n",
       "      <td>Crime, Drama</td>\n",
       "      <td>154</td>\n",
       "      <td>8.9</td>\n",
       "      <td>1780147</td>\n",
       "    </tr>\n",
       "    <tr>\n",
       "      <th>6</th>\n",
       "      <td>Schindler's List</td>\n",
       "      <td>1993</td>\n",
       "      <td>Biography, Drama, History</td>\n",
       "      <td>195</td>\n",
       "      <td>8.9</td>\n",
       "      <td>1183248</td>\n",
       "    </tr>\n",
       "    <tr>\n",
       "      <th>7</th>\n",
       "      <td>The Lord of the Rings: The Return of the King</td>\n",
       "      <td>2003</td>\n",
       "      <td>Action, Adventure, Drama</td>\n",
       "      <td>201</td>\n",
       "      <td>8.9</td>\n",
       "      <td>1604280</td>\n",
       "    </tr>\n",
       "    <tr>\n",
       "      <th>8</th>\n",
       "      <td>The Lord of the Rings: The Fellowship of the Ring</td>\n",
       "      <td>2001</td>\n",
       "      <td>Action, Adventure, Drama</td>\n",
       "      <td>178</td>\n",
       "      <td>8.8</td>\n",
       "      <td>1619920</td>\n",
       "    </tr>\n",
       "    <tr>\n",
       "      <th>9</th>\n",
       "      <td>Forrest Gump</td>\n",
       "      <td>1994</td>\n",
       "      <td>Drama, Romance</td>\n",
       "      <td>142</td>\n",
       "      <td>8.8</td>\n",
       "      <td>1755490</td>\n",
       "    </tr>\n",
       "  </tbody>\n",
       "</table>\n",
       "</div>"
      ],
      "text/plain": [
       "                                      original_title  year  \\\n",
       "0                           The Shawshank Redemption  1994   \n",
       "1                                      The Godfather  1972   \n",
       "2                             The Godfather: Part II  1974   \n",
       "3                                    The Dark Knight  2008   \n",
       "4                                       12 Angry Men  1957   \n",
       "5                                       Pulp Fiction  1994   \n",
       "6                                   Schindler's List  1993   \n",
       "7      The Lord of the Rings: The Return of the King  2003   \n",
       "8  The Lord of the Rings: The Fellowship of the Ring  2001   \n",
       "9                                       Forrest Gump  1994   \n",
       "\n",
       "                       genre  duration  avg_vote    votes  \n",
       "0                      Drama       142       9.3  2278845  \n",
       "1               Crime, Drama       175       9.2  1572674  \n",
       "2               Crime, Drama       202       9.0  1098714  \n",
       "3       Action, Crime, Drama       152       9.0  2241615  \n",
       "4               Crime, Drama        96       8.9   668473  \n",
       "5               Crime, Drama       154       8.9  1780147  \n",
       "6  Biography, Drama, History       195       8.9  1183248  \n",
       "7   Action, Adventure, Drama       201       8.9  1604280  \n",
       "8   Action, Adventure, Drama       178       8.8  1619920  \n",
       "9             Drama, Romance       142       8.8  1755490  "
      ]
     },
     "execution_count": 4,
     "metadata": {},
     "output_type": "execute_result"
    }
   ],
   "source": [
    "# The top 10 highest rated films with restrictions\n",
    "top_10_query = '''\n",
    "    select original_title, year, genre, duration, avg_vote, votes\n",
    "    from movies\n",
    "    where language like '%English%' and votes > 5000\n",
    "    order by avg_vote desc\n",
    "    limit 10;\n",
    "'''\n",
    "\n",
    "df_top_10 = query_db(top_10_query, params)\n",
    "df_top_10"
   ]
  },
  {
   "cell_type": "code",
   "execution_count": 56,
   "metadata": {},
   "outputs": [
    {
     "data": {
      "text/html": [
       "<div>\n",
       "<style scoped>\n",
       "    .dataframe tbody tr th:only-of-type {\n",
       "        vertical-align: middle;\n",
       "    }\n",
       "\n",
       "    .dataframe tbody tr th {\n",
       "        vertical-align: top;\n",
       "    }\n",
       "\n",
       "    .dataframe thead th {\n",
       "        text-align: right;\n",
       "    }\n",
       "</style>\n",
       "<table border=\"1\" class=\"dataframe\">\n",
       "  <thead>\n",
       "    <tr style=\"text-align: right;\">\n",
       "      <th></th>\n",
       "      <th>avg_vote</th>\n",
       "      <th>original_title</th>\n",
       "    </tr>\n",
       "  </thead>\n",
       "  <tbody>\n",
       "    <tr>\n",
       "      <th>0</th>\n",
       "      <td>6.461674</td>\n",
       "      <td>Average Film Rating (All Films)</td>\n",
       "    </tr>\n",
       "  </tbody>\n",
       "</table>\n",
       "</div>"
      ],
      "text/plain": [
       "   avg_vote                   original_title\n",
       "0  6.461674  Average Film Rating (All Films)"
      ]
     },
     "execution_count": 56,
     "metadata": {},
     "output_type": "execute_result"
    }
   ],
   "source": [
    "# Average rating across all films with restrictions\n",
    "avg_rat_query = '''\n",
    "    select avg(avg_vote) as avg_vote\n",
    "    from movies\n",
    "    where language like '%English%' and votes > 5000\n",
    "'''\n",
    "\n",
    "# adding original_title field to result for later joining with other df\n",
    "df_avg_rat = query_db(avg_rat_query, params)\n",
    "df_avg_rat['original_title'] = 'Average Film Rating (All Films)'\n",
    "df_avg_rat"
   ]
  },
  {
   "cell_type": "code",
   "execution_count": 57,
   "metadata": {},
   "outputs": [
    {
     "data": {
      "image/png": "[encoded data removed]",
      "text/plain": [
       "<Figure size 842.4x595.44 with 1 Axes>"
      ]
     },
     "metadata": {},
     "output_type": "display_data"
    }
   ],
   "source": [
    "# join avg film rating to top 10 ratings and display as bar chart\n",
    "df_rat_graph = df_top_10[['original_title', 'avg_vote']]\n",
    "df_rat_graph = df_rat_graph.append(df_avg_rat, ignore_index=True)\n",
    "df_rat_graph = df_rat_graph.sort_values(by=['avg_vote'])\n",
    "\n",
    "sns.set_theme(style='whitegrid')\n",
    "sns.set(rc={'figure.figsize':(11.7,8.27)})\n",
    "ax = sns.barplot(data=df_rat_graph, y='original_title', x='avg_vote', palette='Blues_d')\n",
    "for p in ax.patches:\n",
    "    height = p.get_height() # height of each horizontal bar is the same\n",
    "    width = p.get_width() # width (average number of passengers)\n",
    "    # adding text to each bar\n",
    "    ax.text(x = width+0.1, # x-coordinate position of data label, padded 3 to right of bar\n",
    "    y = p.get_y()+(height/2), # # y-coordinate position of data label, padded to be in the middle of the bar\n",
    "    s = '{:.1f}'.format(width), # data label, formatted to ignore decimals\n",
    "    va = 'center') # sets vertical alignment (va) to center\n",
    "ax.set(ylabel='Film Title', xlabel='Average IMDb Rating', title='Average IMDb ratings for the top 10 highest rated films');"
   ]
  },
  {
   "cell_type": "code",
   "execution_count": null,
   "metadata": {},
   "outputs": [],
   "source": [
    "# this is a bad query as it takes only the first genre in the string, genres are listed alphabetically so that genres such as drama are over represented. Need to find a way to include every film in every\n",
    "# group by for each genre it is.\n",
    "bad_query = '''\n",
    "    select substring(genre from '^[a-zA-Z]+'), count(*) as num_films_in_genre, avg(avg_vote) as avg_vote_of_genre\n",
    "    from movies\n",
    "    where language like '%English%' and votes > 5000\n",
    "    group by substring(genre from '^[a-zA-Z]+')\n",
    "    having count(*) > 10\n",
    "    order by avg(avg_vote) desc\n",
    "    limit 10;\n",
    "'''"
   ]
  }
 ],
 "metadata": {
  "kernelspec": {
   "display_name": "Python 3",
   "language": "python",
   "name": "python3"
  },
  "language_info": {
   "codemirror_mode": {
    "name": "ipython",
    "version": 3
   },
   "file_extension": ".py",
   "mimetype": "text/x-python",
   "name": "python",
   "nbconvert_exporter": "python",
   "pygments_lexer": "ipython3",
   "version": "3.8.0"
  }
 },
 "nbformat": 4,
 "nbformat_minor": 4
}
